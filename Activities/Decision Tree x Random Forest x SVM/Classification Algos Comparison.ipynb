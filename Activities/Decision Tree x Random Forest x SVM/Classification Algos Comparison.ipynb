{
 "cells": [
  {
   "cell_type": "markdown",
   "id": "6c629fe5",
   "metadata": {
    "tags": []
   },
   "source": [
    "# **SVM x Decision Trees x Random Forest Performance Comparison**\n",
    "by Dominador G. Dano Jr."
   ]
  },
  {
   "cell_type": "markdown",
   "id": "f41fdcb6-dcae-4806-a8a1-acee757cb2ff",
   "metadata": {
    "tags": []
   },
   "source": [
    "## **Dataset Description**"
   ]
  },
  {
   "cell_type": "code",
   "execution_count": 117,
   "id": "8bb59763-dccf-420b-84dc-15b0f1f7bd25",
   "metadata": {
    "tags": []
   },
   "outputs": [
    {
     "data": {
      "text/html": [
       "<div>\n",
       "<style scoped>\n",
       "    .dataframe tbody tr th:only-of-type {\n",
       "        vertical-align: middle;\n",
       "    }\n",
       "\n",
       "    .dataframe tbody tr th {\n",
       "        vertical-align: top;\n",
       "    }\n",
       "\n",
       "    .dataframe thead th {\n",
       "        text-align: right;\n",
       "    }\n",
       "</style>\n",
       "<table border=\"1\" class=\"dataframe\">\n",
       "  <thead>\n",
       "    <tr style=\"text-align: right;\">\n",
       "      <th></th>\n",
       "      <th>Age</th>\n",
       "      <th>Gender</th>\n",
       "      <th>Marital Status</th>\n",
       "      <th>Occupation</th>\n",
       "      <th>Monthly Income</th>\n",
       "      <th>Educational Qualifications</th>\n",
       "      <th>Family size</th>\n",
       "      <th>Pin code</th>\n",
       "      <th>Output</th>\n",
       "      <th>Feedback</th>\n",
       "    </tr>\n",
       "  </thead>\n",
       "  <tbody>\n",
       "    <tr>\n",
       "      <th>0</th>\n",
       "      <td>20</td>\n",
       "      <td>Female</td>\n",
       "      <td>Single</td>\n",
       "      <td>Student</td>\n",
       "      <td>No Income</td>\n",
       "      <td>Post Graduate</td>\n",
       "      <td>4</td>\n",
       "      <td>560001</td>\n",
       "      <td>Yes</td>\n",
       "      <td>Positive</td>\n",
       "    </tr>\n",
       "    <tr>\n",
       "      <th>1</th>\n",
       "      <td>24</td>\n",
       "      <td>Female</td>\n",
       "      <td>Single</td>\n",
       "      <td>Student</td>\n",
       "      <td>Below Rs.10000</td>\n",
       "      <td>Graduate</td>\n",
       "      <td>3</td>\n",
       "      <td>560009</td>\n",
       "      <td>Yes</td>\n",
       "      <td>Positive</td>\n",
       "    </tr>\n",
       "    <tr>\n",
       "      <th>2</th>\n",
       "      <td>22</td>\n",
       "      <td>Male</td>\n",
       "      <td>Single</td>\n",
       "      <td>Student</td>\n",
       "      <td>Below Rs.10000</td>\n",
       "      <td>Post Graduate</td>\n",
       "      <td>3</td>\n",
       "      <td>560017</td>\n",
       "      <td>Yes</td>\n",
       "      <td>Negative</td>\n",
       "    </tr>\n",
       "    <tr>\n",
       "      <th>3</th>\n",
       "      <td>22</td>\n",
       "      <td>Female</td>\n",
       "      <td>Single</td>\n",
       "      <td>Student</td>\n",
       "      <td>No Income</td>\n",
       "      <td>Graduate</td>\n",
       "      <td>6</td>\n",
       "      <td>560019</td>\n",
       "      <td>Yes</td>\n",
       "      <td>Positive</td>\n",
       "    </tr>\n",
       "    <tr>\n",
       "      <th>4</th>\n",
       "      <td>22</td>\n",
       "      <td>Male</td>\n",
       "      <td>Single</td>\n",
       "      <td>Student</td>\n",
       "      <td>Below Rs.10000</td>\n",
       "      <td>Post Graduate</td>\n",
       "      <td>4</td>\n",
       "      <td>560010</td>\n",
       "      <td>Yes</td>\n",
       "      <td>Positive</td>\n",
       "    </tr>\n",
       "  </tbody>\n",
       "</table>\n",
       "</div>"
      ],
      "text/plain": [
       "   Age  Gender Marital Status Occupation  Monthly Income  \\\n",
       "0   20  Female         Single    Student       No Income   \n",
       "1   24  Female         Single    Student  Below Rs.10000   \n",
       "2   22    Male         Single    Student  Below Rs.10000   \n",
       "3   22  Female         Single    Student       No Income   \n",
       "4   22    Male         Single    Student  Below Rs.10000   \n",
       "\n",
       "  Educational Qualifications  Family size  Pin code Output   Feedback  \n",
       "0              Post Graduate            4    560001    Yes   Positive  \n",
       "1                   Graduate            3    560009    Yes   Positive  \n",
       "2              Post Graduate            3    560017    Yes  Negative   \n",
       "3                   Graduate            6    560019    Yes   Positive  \n",
       "4              Post Graduate            4    560010    Yes   Positive  "
      ]
     },
     "execution_count": 117,
     "metadata": {},
     "output_type": "execute_result"
    }
   ],
   "source": [
    "import pandas as pd\n",
    "\n",
    "data = pd.read_csv('data/onlinefoods.csv')\n",
    "data.head()"
   ]
  },
  {
   "cell_type": "code",
   "execution_count": 118,
   "id": "e2cfe2db-de41-419e-bc06-d9a866d25e5c",
   "metadata": {
    "tags": []
   },
   "outputs": [
    {
     "data": {
      "text/html": [
       "<div>\n",
       "<style scoped>\n",
       "    .dataframe tbody tr th:only-of-type {\n",
       "        vertical-align: middle;\n",
       "    }\n",
       "\n",
       "    .dataframe tbody tr th {\n",
       "        vertical-align: top;\n",
       "    }\n",
       "\n",
       "    .dataframe thead th {\n",
       "        text-align: right;\n",
       "    }\n",
       "</style>\n",
       "<table border=\"1\" class=\"dataframe\">\n",
       "  <thead>\n",
       "    <tr style=\"text-align: right;\">\n",
       "      <th></th>\n",
       "      <th>Age</th>\n",
       "      <th>Family size</th>\n",
       "      <th>Pin code</th>\n",
       "    </tr>\n",
       "  </thead>\n",
       "  <tbody>\n",
       "    <tr>\n",
       "      <th>count</th>\n",
       "      <td>388.000000</td>\n",
       "      <td>388.000000</td>\n",
       "      <td>388.000000</td>\n",
       "    </tr>\n",
       "    <tr>\n",
       "      <th>mean</th>\n",
       "      <td>24.628866</td>\n",
       "      <td>3.280928</td>\n",
       "      <td>560040.113402</td>\n",
       "    </tr>\n",
       "    <tr>\n",
       "      <th>std</th>\n",
       "      <td>2.975593</td>\n",
       "      <td>1.351025</td>\n",
       "      <td>31.399609</td>\n",
       "    </tr>\n",
       "    <tr>\n",
       "      <th>min</th>\n",
       "      <td>18.000000</td>\n",
       "      <td>1.000000</td>\n",
       "      <td>560001.000000</td>\n",
       "    </tr>\n",
       "    <tr>\n",
       "      <th>25%</th>\n",
       "      <td>23.000000</td>\n",
       "      <td>2.000000</td>\n",
       "      <td>560010.750000</td>\n",
       "    </tr>\n",
       "    <tr>\n",
       "      <th>50%</th>\n",
       "      <td>24.000000</td>\n",
       "      <td>3.000000</td>\n",
       "      <td>560033.500000</td>\n",
       "    </tr>\n",
       "    <tr>\n",
       "      <th>75%</th>\n",
       "      <td>26.000000</td>\n",
       "      <td>4.000000</td>\n",
       "      <td>560068.000000</td>\n",
       "    </tr>\n",
       "    <tr>\n",
       "      <th>max</th>\n",
       "      <td>33.000000</td>\n",
       "      <td>6.000000</td>\n",
       "      <td>560109.000000</td>\n",
       "    </tr>\n",
       "  </tbody>\n",
       "</table>\n",
       "</div>"
      ],
      "text/plain": [
       "              Age  Family size       Pin code\n",
       "count  388.000000   388.000000     388.000000\n",
       "mean    24.628866     3.280928  560040.113402\n",
       "std      2.975593     1.351025      31.399609\n",
       "min     18.000000     1.000000  560001.000000\n",
       "25%     23.000000     2.000000  560010.750000\n",
       "50%     24.000000     3.000000  560033.500000\n",
       "75%     26.000000     4.000000  560068.000000\n",
       "max     33.000000     6.000000  560109.000000"
      ]
     },
     "execution_count": 118,
     "metadata": {},
     "output_type": "execute_result"
    }
   ],
   "source": [
    "data.describe()"
   ]
  },
  {
   "cell_type": "markdown",
   "id": "c6917c71",
   "metadata": {
    "tags": []
   },
   "source": [
    "## **Outlier Detection**\n",
    "IQR outlier detection for continuous columns"
   ]
  },
  {
   "cell_type": "code",
   "execution_count": 119,
   "id": "28ca7e1d",
   "metadata": {},
   "outputs": [
    {
     "name": "stdout",
     "output_type": "stream",
     "text": [
      "\n",
      "Outliers detected using IQR method:\n",
      "Series([], Name: Age, dtype: int64)\n"
     ]
    },
    {
     "data": {
      "image/png": "[encoded data removed]",
      "text/plain": [
       "<Figure size 1000x500 with 1 Axes>"
      ]
     },
     "metadata": {},
     "output_type": "display_data"
    }
   ],
   "source": [
    "# Outlier Detection\n",
    "import numpy as np\n",
    "from scipy.stats import zscore\n",
    "\n",
    "# Select the column you want to analyze\n",
    "column_name = 'Age'  # replace with the actual column name\n",
    "selected_data = data[column_name]\n",
    "\n",
    "# IQR method\n",
    "def detect_outliers_iqr(data):\n",
    "    Q1 = data.quantile(0.05)\n",
    "    Q3 = data.quantile(0.95)\n",
    "    IQR = Q3 - Q1\n",
    "    lower_bound = Q1 - 1.5 * IQR\n",
    "    upper_bound = Q3 + 1.5 * IQR\n",
    "    outliers = data[(data < lower_bound) | (data > upper_bound)]\n",
    "    return outliers\n",
    "\n",
    "# Detect outliers using both methods\n",
    "outliers_iqr = detect_outliers_iqr(selected_data)\n",
    "\n",
    "# Print outliers\n",
    "print(\"\\nOutliers detected using IQR method:\")\n",
    "print(outliers_iqr)\n",
    "\n",
    "# Visualize outliers using a box plot\n",
    "import matplotlib.pyplot as plt\n",
    "import seaborn as sns\n",
    "\n",
    "plt.figure(figsize=(10, 5))\n",
    "sns.boxplot(selected_data)\n",
    "plt.title(f'Box plot of {column_name}')\n",
    "plt.show()\n"
   ]
  },
  {
   "cell_type": "markdown",
   "id": "9dee2ce7",
   "metadata": {},
   "source": [
    "## **Binning and Label Encoding**\n",
    "Data is binned to be used for feature selection, since Chi Square Test and Cramer's V requires the columns to be categorical"
   ]
  },
  {
   "cell_type": "code",
   "execution_count": 120,
   "id": "3667d4b5-0116-47a2-8a3f-df0872e0c4ef",
   "metadata": {
    "tags": []
   },
   "outputs": [
    {
     "data": {
      "text/html": [
       "<div>\n",
       "<style scoped>\n",
       "    .dataframe tbody tr th:only-of-type {\n",
       "        vertical-align: middle;\n",
       "    }\n",
       "\n",
       "    .dataframe tbody tr th {\n",
       "        vertical-align: top;\n",
       "    }\n",
       "\n",
       "    .dataframe thead th {\n",
       "        text-align: right;\n",
       "    }\n",
       "</style>\n",
       "<table border=\"1\" class=\"dataframe\">\n",
       "  <thead>\n",
       "    <tr style=\"text-align: right;\">\n",
       "      <th></th>\n",
       "      <th>Age</th>\n",
       "      <th>Gender</th>\n",
       "      <th>Marital Status</th>\n",
       "      <th>Occupation</th>\n",
       "      <th>Monthly Income</th>\n",
       "      <th>Educational Qualifications</th>\n",
       "      <th>Family size</th>\n",
       "      <th>Pin code</th>\n",
       "      <th>Output</th>\n",
       "      <th>Feedback</th>\n",
       "    </tr>\n",
       "  </thead>\n",
       "  <tbody>\n",
       "    <tr>\n",
       "      <th>0</th>\n",
       "      <td>1</td>\n",
       "      <td>0</td>\n",
       "      <td>2</td>\n",
       "      <td>3</td>\n",
       "      <td>4</td>\n",
       "      <td>2</td>\n",
       "      <td>3</td>\n",
       "      <td>1</td>\n",
       "      <td>1</td>\n",
       "      <td>1</td>\n",
       "    </tr>\n",
       "    <tr>\n",
       "      <th>1</th>\n",
       "      <td>2</td>\n",
       "      <td>0</td>\n",
       "      <td>2</td>\n",
       "      <td>3</td>\n",
       "      <td>2</td>\n",
       "      <td>0</td>\n",
       "      <td>2</td>\n",
       "      <td>1</td>\n",
       "      <td>1</td>\n",
       "      <td>1</td>\n",
       "    </tr>\n",
       "    <tr>\n",
       "      <th>2</th>\n",
       "      <td>1</td>\n",
       "      <td>1</td>\n",
       "      <td>2</td>\n",
       "      <td>3</td>\n",
       "      <td>2</td>\n",
       "      <td>2</td>\n",
       "      <td>2</td>\n",
       "      <td>1</td>\n",
       "      <td>1</td>\n",
       "      <td>0</td>\n",
       "    </tr>\n",
       "    <tr>\n",
       "      <th>3</th>\n",
       "      <td>1</td>\n",
       "      <td>0</td>\n",
       "      <td>2</td>\n",
       "      <td>3</td>\n",
       "      <td>4</td>\n",
       "      <td>0</td>\n",
       "      <td>5</td>\n",
       "      <td>1</td>\n",
       "      <td>1</td>\n",
       "      <td>1</td>\n",
       "    </tr>\n",
       "    <tr>\n",
       "      <th>4</th>\n",
       "      <td>1</td>\n",
       "      <td>1</td>\n",
       "      <td>2</td>\n",
       "      <td>3</td>\n",
       "      <td>2</td>\n",
       "      <td>2</td>\n",
       "      <td>3</td>\n",
       "      <td>1</td>\n",
       "      <td>1</td>\n",
       "      <td>1</td>\n",
       "    </tr>\n",
       "  </tbody>\n",
       "</table>\n",
       "</div>"
      ],
      "text/plain": [
       "  Age  Gender  Marital Status  Occupation  Monthly Income  \\\n",
       "0   1       0               2           3               4   \n",
       "1   2       0               2           3               2   \n",
       "2   1       1               2           3               2   \n",
       "3   1       0               2           3               4   \n",
       "4   1       1               2           3               2   \n",
       "\n",
       "   Educational Qualifications  Family size Pin code  Output  Feedback  \n",
       "0                           2            3        1       1         1  \n",
       "1                           0            2        1       1         1  \n",
       "2                           2            2        1       1         0  \n",
       "3                           0            5        1       1         1  \n",
       "4                           2            3        1       1         1  "
      ]
     },
     "execution_count": 120,
     "metadata": {},
     "output_type": "execute_result"
    }
   ],
   "source": [
    "# Manually bin columns\n",
    "binned_age = pd.cut(data[\"Age\"],\n",
    "            bins=[17, 22, 26, 29, 34],\n",
    "            labels=['1', '2', '3', '4'])\n",
    "\n",
    "binned_pinCode =  pd.cut(data[\"Pin code\"],\n",
    "            bins=[560000, 560025, 560050, 560075, 560100, 560125],\n",
    "            labels=['1', '2', '3', '4', '5'])\n",
    "\n",
    "\n",
    "# Label encode all columns except manually binned columns\n",
    "from library.bin import label_encode_all\n",
    "data = label_encode_all(data, exclude_columns=['Age', 'Pin code'])\n",
    "\n",
    "\n",
    "# Replace the original columns\n",
    "data['Age'] = binned_age\n",
    "data['Pin code'] = binned_pinCode\n",
    "\n",
    "# Show new data\n",
    "data.head()\n"
   ]
  },
  {
   "cell_type": "markdown",
   "id": "af0ae007-9d6f-4c8c-b54e-666af0c551e6",
   "metadata": {},
   "source": [
    "## **Feature Selection**"
   ]
  },
  {
   "cell_type": "markdown",
   "id": "1c095916",
   "metadata": {},
   "source": [
    "### X vs X Feature Selection Using Cramer's V\n",
    "\n",
    "Cramér's V is a measure of association between two categorical variables. It's based on the chi-square statistic and ranges from 0 to 1, with 0 indicating no association and 1 indicating a perfect association.\n",
    "\n",
    "Cramer's V Coefficient • *source: IBM - https://www.ibm.com/docs/en/cognos-analytics/12.0.0?topic=terms-cramrs-v*\n",
    "\n",
    "- > <= 0.2 - The result is weak. Although the result is statistically significant, the fields are only weakly associated.\n",
    "\n",
    "- > <= 0.6 - The result is moderate. The fields are moderately associated.\n",
    "\n",
    "- > 0.6 and above - The result is strong. The fields are strongly associated.\n"
   ]
  },
  {
   "cell_type": "code",
   "execution_count": 121,
   "id": "87009c94",
   "metadata": {},
   "outputs": [
    {
     "data": {
      "image/png": "[encoded data removed]",
      "text/plain": [
       "<Figure size 640x480 with 2 Axes>"
      ]
     },
     "metadata": {},
     "output_type": "display_data"
    },
    {
     "data": {
      "text/plain": [
       "({('Age', 'Age'): 1.0,\n",
       "  ('Family size', 'Family size'): 0.9999999999999999,\n",
       "  ('Gender', 'Gender'): 0.9947356995549765,\n",
       "  ('Output', 'Output'): 0.9925917439951121,\n",
       "  ('Monthly Income', 'Occupation'): 0.5420432625936349,\n",
       "  ('Age', 'Marital Status'): 0.467781395310831,\n",
       "  ('Occupation', 'Marital Status'): 0.4676466238039181,\n",
       "  ('Monthly Income', 'Marital Status'): 0.4160984534015246,\n",
       "  ('Marital Status', 'Monthly Income'): 0.41609845340152457,\n",
       "  ('Occupation', 'Age'): 0.41295525793930893},\n",
       "     Age  Gender  Marital Status  Occupation  Monthly Income  \\\n",
       " 0     1       0               2           3               4   \n",
       " 1     2       0               2           3               2   \n",
       " 2     1       1               2           3               2   \n",
       " 3     1       0               2           3               4   \n",
       " 4     1       1               2           3               2   \n",
       " ..   ..     ...             ...         ...             ...   \n",
       " 383   2       0               2           3               4   \n",
       " 384   2       0               2           3               4   \n",
       " 385   1       0               2           3               4   \n",
       " 386   2       1               2           3               2   \n",
       " 387   2       1               2           3               4   \n",
       " \n",
       "      Educational Qualifications  Family size Pin code  Output  \n",
       " 0                             2            3        1       1  \n",
       " 1                             0            2        1       1  \n",
       " 2                             2            2        1       1  \n",
       " 3                             0            5        1       1  \n",
       " 4                             2            3        1       1  \n",
       " ..                          ...          ...      ...     ...  \n",
       " 383                           2            1        1       1  \n",
       " 384                           2            3        2       1  \n",
       " 385                           2            4        1       1  \n",
       " 386                           2            1        1       1  \n",
       " 387                           2            4        4       1  \n",
       " \n",
       " [388 rows x 9 columns])"
      ]
     },
     "execution_count": 121,
     "metadata": {},
     "output_type": "execute_result"
    }
   ],
   "source": [
    "from library.feature_selection import cramers_v_analysis\n",
    "cramers_v_analysis(data, target_column='Feedback', threshold=0.6, top_n=10, plot=True, figsize=None)"
   ]
  },
  {
   "cell_type": "markdown",
   "id": "2bde85db",
   "metadata": {},
   "source": [
    "## X vs Y Feature Selection using Chi Square Test\n",
    "\n"
   ]
  },
  {
   "cell_type": "code",
   "execution_count": 122,
   "id": "772ff607",
   "metadata": {},
   "outputs": [
    {
     "data": {
      "text/html": [
       "<div>\n",
       "<style scoped>\n",
       "    .dataframe tbody tr th:only-of-type {\n",
       "        vertical-align: middle;\n",
       "    }\n",
       "\n",
       "    .dataframe tbody tr th {\n",
       "        vertical-align: top;\n",
       "    }\n",
       "\n",
       "    .dataframe thead th {\n",
       "        text-align: right;\n",
       "    }\n",
       "</style>\n",
       "<table border=\"1\" class=\"dataframe\">\n",
       "  <thead>\n",
       "    <tr style=\"text-align: right;\">\n",
       "      <th></th>\n",
       "      <th>Feature</th>\n",
       "      <th>Significance</th>\n",
       "      <th>p-value</th>\n",
       "    </tr>\n",
       "  </thead>\n",
       "  <tbody>\n",
       "    <tr>\n",
       "      <th>8</th>\n",
       "      <td>Output</td>\n",
       "      <td>Significant</td>\n",
       "      <td>0.0</td>\n",
       "    </tr>\n",
       "    <tr>\n",
       "      <th>4</th>\n",
       "      <td>Monthly Income</td>\n",
       "      <td>Significant</td>\n",
       "      <td>0.000008</td>\n",
       "    </tr>\n",
       "    <tr>\n",
       "      <th>3</th>\n",
       "      <td>Occupation</td>\n",
       "      <td>Significant</td>\n",
       "      <td>0.000082</td>\n",
       "    </tr>\n",
       "    <tr>\n",
       "      <th>2</th>\n",
       "      <td>Marital Status</td>\n",
       "      <td>Significant</td>\n",
       "      <td>0.000191</td>\n",
       "    </tr>\n",
       "    <tr>\n",
       "      <th>0</th>\n",
       "      <td>Age</td>\n",
       "      <td>Significant</td>\n",
       "      <td>0.006042</td>\n",
       "    </tr>\n",
       "    <tr>\n",
       "      <th>5</th>\n",
       "      <td>Educational Qualifications</td>\n",
       "      <td>Significant</td>\n",
       "      <td>0.029317</td>\n",
       "    </tr>\n",
       "    <tr>\n",
       "      <th>7</th>\n",
       "      <td>Pin code</td>\n",
       "      <td>Not Significant</td>\n",
       "      <td>0.405208</td>\n",
       "    </tr>\n",
       "    <tr>\n",
       "      <th>1</th>\n",
       "      <td>Gender</td>\n",
       "      <td>Not Significant</td>\n",
       "      <td>0.445289</td>\n",
       "    </tr>\n",
       "    <tr>\n",
       "      <th>6</th>\n",
       "      <td>Family size</td>\n",
       "      <td>Not Significant</td>\n",
       "      <td>0.696247</td>\n",
       "    </tr>\n",
       "  </tbody>\n",
       "</table>\n",
       "</div>"
      ],
      "text/plain": [
       "                      Feature     Significance   p-value\n",
       "8                      Output      Significant       0.0\n",
       "4              Monthly Income      Significant  0.000008\n",
       "3                  Occupation      Significant  0.000082\n",
       "2              Marital Status      Significant  0.000191\n",
       "0                         Age      Significant  0.006042\n",
       "5  Educational Qualifications      Significant  0.029317\n",
       "7                    Pin code  Not Significant  0.405208\n",
       "1                      Gender  Not Significant  0.445289\n",
       "6                 Family size  Not Significant  0.696247"
      ]
     },
     "execution_count": 122,
     "metadata": {},
     "output_type": "execute_result"
    }
   ],
   "source": [
    "from library.feature_selection import chi2_feature_significance\n",
    "\n",
    "chi2_feature_significance(data, \"Feedback\", significance_threshold=0.05)"
   ]
  },
  {
   "cell_type": "markdown",
   "id": "b1529ab4",
   "metadata": {},
   "source": [
    "\n",
    "## **Accuracy Comparison**"
   ]
  },
  {
   "cell_type": "markdown",
   "id": "0adfac36",
   "metadata": {},
   "source": [
    "Initial Model Creation with SMOTE for Comparison "
   ]
  },
  {
   "cell_type": "code",
   "execution_count": 123,
   "id": "f1da8cfc",
   "metadata": {},
   "outputs": [
    {
     "data": {
      "text/html": [
       "<div>\n",
       "<style scoped>\n",
       "    .dataframe tbody tr th:only-of-type {\n",
       "        vertical-align: middle;\n",
       "    }\n",
       "\n",
       "    .dataframe tbody tr th {\n",
       "        vertical-align: top;\n",
       "    }\n",
       "\n",
       "    .dataframe thead th {\n",
       "        text-align: right;\n",
       "    }\n",
       "</style>\n",
       "<table border=\"1\" class=\"dataframe\">\n",
       "  <thead>\n",
       "    <tr style=\"text-align: right;\">\n",
       "      <th></th>\n",
       "      <th>Age</th>\n",
       "      <th>Gender</th>\n",
       "      <th>Marital Status</th>\n",
       "      <th>Occupation</th>\n",
       "      <th>Monthly Income</th>\n",
       "      <th>Educational Qualifications</th>\n",
       "      <th>Family size</th>\n",
       "      <th>Pin code</th>\n",
       "      <th>Output</th>\n",
       "    </tr>\n",
       "  </thead>\n",
       "  <tbody>\n",
       "    <tr>\n",
       "      <th>0</th>\n",
       "      <td>1</td>\n",
       "      <td>0</td>\n",
       "      <td>2</td>\n",
       "      <td>3</td>\n",
       "      <td>4</td>\n",
       "      <td>2</td>\n",
       "      <td>3</td>\n",
       "      <td>1</td>\n",
       "      <td>1</td>\n",
       "    </tr>\n",
       "    <tr>\n",
       "      <th>1</th>\n",
       "      <td>2</td>\n",
       "      <td>0</td>\n",
       "      <td>2</td>\n",
       "      <td>3</td>\n",
       "      <td>2</td>\n",
       "      <td>0</td>\n",
       "      <td>2</td>\n",
       "      <td>1</td>\n",
       "      <td>1</td>\n",
       "    </tr>\n",
       "    <tr>\n",
       "      <th>2</th>\n",
       "      <td>1</td>\n",
       "      <td>1</td>\n",
       "      <td>2</td>\n",
       "      <td>3</td>\n",
       "      <td>2</td>\n",
       "      <td>2</td>\n",
       "      <td>2</td>\n",
       "      <td>1</td>\n",
       "      <td>1</td>\n",
       "    </tr>\n",
       "    <tr>\n",
       "      <th>3</th>\n",
       "      <td>1</td>\n",
       "      <td>0</td>\n",
       "      <td>2</td>\n",
       "      <td>3</td>\n",
       "      <td>4</td>\n",
       "      <td>0</td>\n",
       "      <td>5</td>\n",
       "      <td>1</td>\n",
       "      <td>1</td>\n",
       "    </tr>\n",
       "    <tr>\n",
       "      <th>4</th>\n",
       "      <td>1</td>\n",
       "      <td>1</td>\n",
       "      <td>2</td>\n",
       "      <td>3</td>\n",
       "      <td>2</td>\n",
       "      <td>2</td>\n",
       "      <td>3</td>\n",
       "      <td>1</td>\n",
       "      <td>1</td>\n",
       "    </tr>\n",
       "  </tbody>\n",
       "</table>\n",
       "</div>"
      ],
      "text/plain": [
       "  Age  Gender  Marital Status  Occupation  Monthly Income  \\\n",
       "0   1       0               2           3               4   \n",
       "1   2       0               2           3               2   \n",
       "2   1       1               2           3               2   \n",
       "3   1       0               2           3               4   \n",
       "4   1       1               2           3               2   \n",
       "\n",
       "   Educational Qualifications  Family size Pin code  Output  \n",
       "0                           2            3        1       1  \n",
       "1                           0            2        1       1  \n",
       "2                           2            2        1       1  \n",
       "3                           0            5        1       1  \n",
       "4                           2            3        1       1  "
      ]
     },
     "execution_count": 123,
     "metadata": {},
     "output_type": "execute_result"
    }
   ],
   "source": [
    "from library.model import *\n",
    "from sklearn.ensemble import RandomForestClassifier\n",
    "from sklearn.tree import DecisionTreeClassifier\n",
    "from sklearn.svm import SVC\n",
    "\n",
    "x = data.drop(columns=['Feedback'], axis=1)\n",
    "x.head()"
   ]
  },
  {
   "cell_type": "code",
   "execution_count": 124,
   "id": "089d24d8",
   "metadata": {},
   "outputs": [
    {
     "data": {
      "text/plain": [
       "0    1\n",
       "1    1\n",
       "2    0\n",
       "3    1\n",
       "4    1\n",
       "Name: Feedback, dtype: int64"
      ]
     },
     "execution_count": 124,
     "metadata": {},
     "output_type": "execute_result"
    }
   ],
   "source": [
    "y = data['Feedback']\n",
    "y.head()"
   ]
  },
  {
   "cell_type": "markdown",
   "id": "5d57cbe3",
   "metadata": {},
   "source": [
    "### **Balancing the data**"
   ]
  },
  {
   "cell_type": "code",
   "execution_count": 125,
   "id": "2efbbc7f",
   "metadata": {},
   "outputs": [],
   "source": [
    "x_smote, y_smote = balance_data(x, y)\n",
    "\n",
    "# X with feature selection\n",
    "x_smote_featureSelection = x_smote.drop(['Family size', 'Gender', 'Pin code',], axis=1)"
   ]
  },
  {
   "cell_type": "markdown",
   "id": "b30218f6",
   "metadata": {},
   "source": [
    "### **Decision Trees**"
   ]
  },
  {
   "cell_type": "code",
   "execution_count": 126,
   "id": "93c3c06e",
   "metadata": {},
   "outputs": [
    {
     "data": {
      "text/html": [
       "<div>\n",
       "<style scoped>\n",
       "    .dataframe tbody tr th:only-of-type {\n",
       "        vertical-align: middle;\n",
       "    }\n",
       "\n",
       "    .dataframe tbody tr th {\n",
       "        vertical-align: top;\n",
       "    }\n",
       "\n",
       "    .dataframe thead th {\n",
       "        text-align: right;\n",
       "    }\n",
       "</style>\n",
       "<table border=\"1\" class=\"dataframe\">\n",
       "  <thead>\n",
       "    <tr style=\"text-align: right;\">\n",
       "      <th></th>\n",
       "      <th>Accuracy</th>\n",
       "      <th>F1-score</th>\n",
       "      <th>Precision</th>\n",
       "      <th>Mean Squared Error</th>\n",
       "      <th>Mean Absolute Error</th>\n",
       "    </tr>\n",
       "  </thead>\n",
       "  <tbody>\n",
       "    <tr>\n",
       "      <th>Decision Tree</th>\n",
       "      <td>0.889764</td>\n",
       "      <td>0.889887</td>\n",
       "      <td>0.893984</td>\n",
       "      <td>0.110236</td>\n",
       "      <td>0.110236</td>\n",
       "    </tr>\n",
       "  </tbody>\n",
       "</table>\n",
       "</div>"
      ],
      "text/plain": [
       "               Accuracy  F1-score  Precision  Mean Squared Error  \\\n",
       "Decision Tree  0.889764  0.889887   0.893984            0.110236   \n",
       "\n",
       "               Mean Absolute Error  \n",
       "Decision Tree             0.110236  "
      ]
     },
     "execution_count": 126,
     "metadata": {},
     "output_type": "execute_result"
    }
   ],
   "source": [
    "decision_tree_model = DecisionTreeClassifier(random_state=42);\n",
    "\n",
    "tabulize_model_results(decision_tree_model, \"Decision Tree\", x_smote, y_smote )"
   ]
  },
  {
   "cell_type": "code",
   "execution_count": 127,
   "id": "e2e538df",
   "metadata": {},
   "outputs": [
    {
     "data": {
      "text/html": [
       "<div>\n",
       "<style scoped>\n",
       "    .dataframe tbody tr th:only-of-type {\n",
       "        vertical-align: middle;\n",
       "    }\n",
       "\n",
       "    .dataframe tbody tr th {\n",
       "        vertical-align: top;\n",
       "    }\n",
       "\n",
       "    .dataframe thead th {\n",
       "        text-align: right;\n",
       "    }\n",
       "</style>\n",
       "<table border=\"1\" class=\"dataframe\">\n",
       "  <thead>\n",
       "    <tr style=\"text-align: right;\">\n",
       "      <th></th>\n",
       "      <th>Accuracy</th>\n",
       "      <th>F1-score</th>\n",
       "      <th>Precision</th>\n",
       "      <th>Mean Squared Error</th>\n",
       "      <th>Mean Absolute Error</th>\n",
       "    </tr>\n",
       "  </thead>\n",
       "  <tbody>\n",
       "    <tr>\n",
       "      <th>Decision Tree (feature selection)</th>\n",
       "      <td>0.866142</td>\n",
       "      <td>0.866291</td>\n",
       "      <td>0.867408</td>\n",
       "      <td>0.133858</td>\n",
       "      <td>0.133858</td>\n",
       "    </tr>\n",
       "  </tbody>\n",
       "</table>\n",
       "</div>"
      ],
      "text/plain": [
       "                                   Accuracy  F1-score  Precision  \\\n",
       "Decision Tree (feature selection)  0.866142  0.866291   0.867408   \n",
       "\n",
       "                                   Mean Squared Error  Mean Absolute Error  \n",
       "Decision Tree (feature selection)            0.133858             0.133858  "
      ]
     },
     "execution_count": 127,
     "metadata": {},
     "output_type": "execute_result"
    }
   ],
   "source": [
    "tabulize_model_results(decision_tree_model, \"Decision Tree (feature selection)\", x_smote_featureSelection, y_smote )"
   ]
  },
  {
   "cell_type": "markdown",
   "id": "63aaed5f",
   "metadata": {},
   "source": [
    "### **Random Forest**"
   ]
  },
  {
   "cell_type": "code",
   "execution_count": 128,
   "id": "dba867a1",
   "metadata": {},
   "outputs": [
    {
     "data": {
      "text/html": [
       "<div>\n",
       "<style scoped>\n",
       "    .dataframe tbody tr th:only-of-type {\n",
       "        vertical-align: middle;\n",
       "    }\n",
       "\n",
       "    .dataframe tbody tr th {\n",
       "        vertical-align: top;\n",
       "    }\n",
       "\n",
       "    .dataframe thead th {\n",
       "        text-align: right;\n",
       "    }\n",
       "</style>\n",
       "<table border=\"1\" class=\"dataframe\">\n",
       "  <thead>\n",
       "    <tr style=\"text-align: right;\">\n",
       "      <th></th>\n",
       "      <th>Accuracy</th>\n",
       "      <th>F1-score</th>\n",
       "      <th>Precision</th>\n",
       "      <th>Mean Squared Error</th>\n",
       "      <th>Mean Absolute Error</th>\n",
       "    </tr>\n",
       "  </thead>\n",
       "  <tbody>\n",
       "    <tr>\n",
       "      <th>Random Forest</th>\n",
       "      <td>0.889764</td>\n",
       "      <td>0.889887</td>\n",
       "      <td>0.893984</td>\n",
       "      <td>0.110236</td>\n",
       "      <td>0.110236</td>\n",
       "    </tr>\n",
       "  </tbody>\n",
       "</table>\n",
       "</div>"
      ],
      "text/plain": [
       "               Accuracy  F1-score  Precision  Mean Squared Error  \\\n",
       "Random Forest  0.889764  0.889887   0.893984            0.110236   \n",
       "\n",
       "               Mean Absolute Error  \n",
       "Random Forest             0.110236  "
      ]
     },
     "execution_count": 128,
     "metadata": {},
     "output_type": "execute_result"
    }
   ],
   "source": [
    "random_forest_model = RandomForestClassifier(random_state=42);\n",
    "tabulize_model_results(random_forest_model,\"Random Forest\", x_smote, y_smote,)"
   ]
  },
  {
   "cell_type": "code",
   "execution_count": 129,
   "id": "d25e7820",
   "metadata": {},
   "outputs": [
    {
     "data": {
      "text/html": [
       "<div>\n",
       "<style scoped>\n",
       "    .dataframe tbody tr th:only-of-type {\n",
       "        vertical-align: middle;\n",
       "    }\n",
       "\n",
       "    .dataframe tbody tr th {\n",
       "        vertical-align: top;\n",
       "    }\n",
       "\n",
       "    .dataframe thead th {\n",
       "        text-align: right;\n",
       "    }\n",
       "</style>\n",
       "<table border=\"1\" class=\"dataframe\">\n",
       "  <thead>\n",
       "    <tr style=\"text-align: right;\">\n",
       "      <th></th>\n",
       "      <th>Accuracy</th>\n",
       "      <th>F1-score</th>\n",
       "      <th>Precision</th>\n",
       "      <th>Mean Squared Error</th>\n",
       "      <th>Mean Absolute Error</th>\n",
       "    </tr>\n",
       "  </thead>\n",
       "  <tbody>\n",
       "    <tr>\n",
       "      <th>Random Forest with feature selection</th>\n",
       "      <td>0.874016</td>\n",
       "      <td>0.874125</td>\n",
       "      <td>0.874669</td>\n",
       "      <td>0.125984</td>\n",
       "      <td>0.125984</td>\n",
       "    </tr>\n",
       "  </tbody>\n",
       "</table>\n",
       "</div>"
      ],
      "text/plain": [
       "                                      Accuracy  F1-score  Precision  \\\n",
       "Random Forest with feature selection  0.874016  0.874125   0.874669   \n",
       "\n",
       "                                      Mean Squared Error  Mean Absolute Error  \n",
       "Random Forest with feature selection            0.125984             0.125984  "
      ]
     },
     "execution_count": 129,
     "metadata": {},
     "output_type": "execute_result"
    }
   ],
   "source": [
    "tabulize_model_results(random_forest_model,\"Random Forest with feature selection\", x_smote_featureSelection, y_smote,)"
   ]
  },
  {
   "cell_type": "markdown",
   "id": "40c10897",
   "metadata": {},
   "source": [
    "### **Support Vector Machines (SVM)**"
   ]
  },
  {
   "cell_type": "code",
   "execution_count": 130,
   "id": "81577d51",
   "metadata": {},
   "outputs": [
    {
     "data": {
      "text/html": [
       "<div>\n",
       "<style scoped>\n",
       "    .dataframe tbody tr th:only-of-type {\n",
       "        vertical-align: middle;\n",
       "    }\n",
       "\n",
       "    .dataframe tbody tr th {\n",
       "        vertical-align: top;\n",
       "    }\n",
       "\n",
       "    .dataframe thead th {\n",
       "        text-align: right;\n",
       "    }\n",
       "</style>\n",
       "<table border=\"1\" class=\"dataframe\">\n",
       "  <thead>\n",
       "    <tr style=\"text-align: right;\">\n",
       "      <th></th>\n",
       "      <th>Accuracy</th>\n",
       "      <th>F1-score</th>\n",
       "      <th>Precision</th>\n",
       "      <th>Mean Squared Error</th>\n",
       "      <th>Mean Absolute Error</th>\n",
       "    </tr>\n",
       "  </thead>\n",
       "  <tbody>\n",
       "    <tr>\n",
       "      <th>Support Vector Machines</th>\n",
       "      <td>0.84252</td>\n",
       "      <td>0.84252</td>\n",
       "      <td>0.84252</td>\n",
       "      <td>0.15748</td>\n",
       "      <td>0.15748</td>\n",
       "    </tr>\n",
       "  </tbody>\n",
       "</table>\n",
       "</div>"
      ],
      "text/plain": [
       "                         Accuracy  F1-score  Precision  Mean Squared Error  \\\n",
       "Support Vector Machines   0.84252   0.84252    0.84252             0.15748   \n",
       "\n",
       "                         Mean Absolute Error  \n",
       "Support Vector Machines              0.15748  "
      ]
     },
     "execution_count": 130,
     "metadata": {},
     "output_type": "execute_result"
    }
   ],
   "source": [
    "svm_model = SVC(random_state=42);\n",
    "tabulize_model_results(svm_model, \"Support Vector Machines\", x_smote, y_smote)"
   ]
  },
  {
   "cell_type": "code",
   "execution_count": 131,
   "id": "b84d1435",
   "metadata": {},
   "outputs": [
    {
     "data": {
      "text/html": [
       "<div>\n",
       "<style scoped>\n",
       "    .dataframe tbody tr th:only-of-type {\n",
       "        vertical-align: middle;\n",
       "    }\n",
       "\n",
       "    .dataframe tbody tr th {\n",
       "        vertical-align: top;\n",
       "    }\n",
       "\n",
       "    .dataframe thead th {\n",
       "        text-align: right;\n",
       "    }\n",
       "</style>\n",
       "<table border=\"1\" class=\"dataframe\">\n",
       "  <thead>\n",
       "    <tr style=\"text-align: right;\">\n",
       "      <th></th>\n",
       "      <th>Accuracy</th>\n",
       "      <th>F1-score</th>\n",
       "      <th>Precision</th>\n",
       "      <th>Mean Squared Error</th>\n",
       "      <th>Mean Absolute Error</th>\n",
       "    </tr>\n",
       "  </thead>\n",
       "  <tbody>\n",
       "    <tr>\n",
       "      <th>Support Vector Machines with feature selection</th>\n",
       "      <td>0.834646</td>\n",
       "      <td>0.834273</td>\n",
       "      <td>0.834842</td>\n",
       "      <td>0.165354</td>\n",
       "      <td>0.165354</td>\n",
       "    </tr>\n",
       "  </tbody>\n",
       "</table>\n",
       "</div>"
      ],
      "text/plain": [
       "                                                Accuracy  F1-score  Precision  \\\n",
       "Support Vector Machines with feature selection  0.834646  0.834273   0.834842   \n",
       "\n",
       "                                                Mean Squared Error  \\\n",
       "Support Vector Machines with feature selection            0.165354   \n",
       "\n",
       "                                                Mean Absolute Error  \n",
       "Support Vector Machines with feature selection             0.165354  "
      ]
     },
     "execution_count": 131,
     "metadata": {},
     "output_type": "execute_result"
    }
   ],
   "source": [
    "tabulize_model_results(svm_model, \"Support Vector Machines with feature selection\", x_smote_featureSelection, y_smote)"
   ]
  }
 ],
 "metadata": {
  "kernelspec": {
   "display_name": "Python 3 (ipykernel)",
   "language": "python",
   "name": "python3"
  },
  "language_info": {
   "codemirror_mode": {
    "name": "ipython",
    "version": 3
   },
   "file_extension": ".py",
   "mimetype": "text/x-python",
   "name": "python",
   "nbconvert_exporter": "python",
   "pygments_lexer": "ipython3",
   "version": "3.11.8"
  }
 },
 "nbformat": 4,
 "nbformat_minor": 5
}
